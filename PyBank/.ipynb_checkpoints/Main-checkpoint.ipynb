{
 "cells": [
  {
   "cell_type": "code",
   "execution_count": 60,
   "id": "e31d4537-3123-42da-b69a-9d5b9a9a77af",
   "metadata": {},
   "outputs": [
    {
     "name": "stdout",
     "output_type": "stream",
     "text": [
      "86\n",
      "38382578\n",
      "-2315.12\n",
      "1926159\n",
      "-2196167\n",
      "Feb-2012\n",
      "Sep-2013\n"
     ]
    }
   ],
   "source": [
    "# important pathlib to get csv into python\n",
    "\n",
    "from pathlib import Path\n",
    "import csv\n",
    "\n",
    "csvpath = Path('../PyBank/budget_data.csv')\n",
    "\n",
    "# Initialize  varibles \n",
    "total_months = 0\n",
    "total = 0\n",
    "monthly_change = []\n",
    "months = []\n",
    "net_monthly_avg = 0\n",
    "# Open csv file and create a varible to allow python to use the data in the csv\n",
    "\n",
    "with open(csvpath, 'r') as csvfile:\n",
    "    csvreader = csv.reader(csvfile, delimiter=',')\n",
    "    # Create a header varible to tell python this is the first \"row\" of data\n",
    "    header = next(csvreader)\n",
    "    # Create first_row varible to tell python this is the new first row of the data \n",
    "    first_row = next(csvreader)\n",
    "    total_months += 1\n",
    "    total += int(first_row[1])\n",
    "    prev_row = int(first_row[1]) \n",
    "    \n",
    "    for row in csvreader:\n",
    "        total_months += 1\n",
    "        total += int(row[1])\n",
    "        month_net_change = int(row[1]) - prev_row\n",
    "        prev_row = int(row[1])\n",
    "        monthly_change.append(month_net_change)\n",
    "        months.append(row[0])\n",
    "\n",
    "    # Find the average of the net changes between months\n",
    "    net_monthly_avg = round(sum(monthly_change)  / len(monthly_change),2)\n",
    "    \n",
    "    # Find max and minimum in the monthly_change list\n",
    "    greatest_increase = max(monthly_change)\n",
    "    greatest_decrease = min(monthly_change)\n",
    "    \n",
    "    # Use an index to find he associated key that belongs to the greatest increase and decrease\n",
    "    greatest_increase_date = (months[month_list.index(greatest_increase)])\n",
    "    greatest_decrease_date = (months[month_list.index(greatest_decrease)])\n",
    "    \n",
    "    print(total_months)\n",
    "    print(total)\n",
    "    print(net_monthly_avg)\n",
    "    print(greatest_increase)\n",
    "    print(greatest_decrease)\n",
    "    print(greatest_increase_date)\n",
    "    print(greatest_decrease_date)\n",
    "    \n",
    "    output_path = Path('../PyBank/Financial Analysis.txt')\n",
    "\n",
    "with open(output_path, \"w\") as txt_file:\n",
    "    txt_file.write(f\"Financial Analysis\\n\")\n",
    "    txt_file.write(f\"----------------------------\\n\")\n",
    "    txt_file.write(f\"Total Months: {total_months}\\n\")\n",
    "    txt_file.write(f\"Total: ${total}\\n\")\n",
    "    txt_file.write(f\"Average  Change: ${net_monthly_avg}\\n\")\n",
    "    txt_file.write(f\"Greatest Increase in Profits: {greatest_increase_date} (${greatest_increase})\\n\")\n",
    "    txt_file.write(f\"Greatest Decrease in Profits: {greatest_decrease_date} (${greatest_decrease}\\n\")\n",
    "    "
   ]
  },
  {
   "cell_type": "code",
   "execution_count": null,
   "id": "7d7efb65-9507-47a4-b690-8b5237e0bac0",
   "metadata": {},
   "outputs": [],
   "source": []
  }
 ],
 "metadata": {
  "kernelspec": {
   "display_name": "Python 3 (ipykernel)",
   "language": "python",
   "name": "python3"
  },
  "language_info": {
   "codemirror_mode": {
    "name": "ipython",
    "version": 3
   },
   "file_extension": ".py",
   "mimetype": "text/x-python",
   "name": "python",
   "nbconvert_exporter": "python",
   "pygments_lexer": "ipython3",
   "version": "3.7.11"
  }
 },
 "nbformat": 4,
 "nbformat_minor": 5
}
