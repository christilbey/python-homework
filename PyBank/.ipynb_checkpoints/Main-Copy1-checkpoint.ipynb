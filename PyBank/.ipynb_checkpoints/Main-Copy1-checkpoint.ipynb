{
 "cells": [
  {
   "cell_type": "code",
   "execution_count": 2,
   "id": "e31d4537-3123-42da-b69a-9d5b9a9a77af",
   "metadata": {},
   "outputs": [
    {
     "name": "stdout",
     "output_type": "stream",
     "text": [
      "['Date', 'Profit/Losses']\n"
     ]
    },
    {
     "ename": "TypeError",
     "evalue": "unsupported operand type(s) for -: 'str' and 'str'",
     "output_type": "error",
     "traceback": [
      "\u001b[0;31m---------------------------------------------------------------------------\u001b[0m",
      "\u001b[0;31mTypeError\u001b[0m                                 Traceback (most recent call last)",
      "\u001b[0;32m/var/folders/6k/3yzgjkrn42b82w9ydc1y__xm0000gn/T/ipykernel_2243/1585924802.py\u001b[0m in \u001b[0;36m<module>\u001b[0;34m\u001b[0m\n\u001b[1;32m     37\u001b[0m \u001b[0;34m\u001b[0m\u001b[0m\n\u001b[1;32m     38\u001b[0m         \u001b[0;32melse\u001b[0m\u001b[0;34m:\u001b[0m\u001b[0;34m\u001b[0m\u001b[0;34m\u001b[0m\u001b[0m\n\u001b[0;32m---> 39\u001b[0;31m             \u001b[0mdiff\u001b[0m \u001b[0;34m=\u001b[0m \u001b[0mrow\u001b[0m\u001b[0;34m[\u001b[0m\u001b[0;36m1\u001b[0m\u001b[0;34m]\u001b[0m \u001b[0;34m-\u001b[0m \u001b[0mprev_row\u001b[0m\u001b[0;34m[\u001b[0m\u001b[0;36m1\u001b[0m\u001b[0;34m]\u001b[0m\u001b[0;34m\u001b[0m\u001b[0;34m\u001b[0m\u001b[0m\n\u001b[0m\u001b[1;32m     40\u001b[0m \u001b[0;34m\u001b[0m\u001b[0m\n\u001b[1;32m     41\u001b[0m         \u001b[0mcumulative_diff\u001b[0m \u001b[0;34m=\u001b[0m \u001b[0mcumulative_diff\u001b[0m \u001b[0;34m+\u001b[0m \u001b[0mdiff\u001b[0m\u001b[0;34m\u001b[0m\u001b[0;34m\u001b[0m\u001b[0m\n",
      "\u001b[0;31mTypeError\u001b[0m: unsupported operand type(s) for -: 'str' and 'str'"
     ]
    }
   ],
   "source": [
    "# important pathlib to get csv into python\n",
    "\n",
    "from pathlib import Path\n",
    "import csv\n",
    "\n",
    "csvpath = Path('../PyBank/budget_data.csv')\n",
    "\n",
    "# Initialize  varibles \n",
    "\n",
    "budget_data = {}\n",
    "\n",
    "# pass the csvfile to the budget_data function\n",
    "\n",
    "with open(csvpath, 'r') as csvfile:\n",
    "    csvreader = csv.reader(csvfile, delimiter=',')\n",
    "    header = next(csvreader)\n",
    "    \n",
    "    print(header)\n",
    "\n",
    "    # read each row of data\n",
    "    prev_row = None\n",
    "    cumulative_diff = 0\n",
    "    cnt = 0\n",
    "    for row in csvreader:\n",
    "        # read in one row at a time\n",
    "        cnt += 1\n",
    "        month = row[0]\n",
    "        pnl = row[1]\n",
    "        budget_data[month] = int(pnl)\n",
    "        \n",
    "        \n",
    "        \n",
    "        # Calculate the difference between consecutive rows\n",
    "        if prev_row is None:\n",
    "            # this is the first row\n",
    "            diff = 0\n",
    "        \n",
    "        else:\n",
    "            diff = row[1] - prev_row[1]\n",
    "        \n",
    "        cumulative_diff = cumulative_diff + diff\n",
    "        # why do we put it here?\n",
    "        prev_row = row\n",
    "\n",
    "print(budget_data)\n",
    "\n",
    "# Average of change/ diff\n",
    "avg_diff = sum_diff / number_diff"
   ]
  },
  {
   "cell_type": "code",
   "execution_count": 8,
   "id": "668e6cb6-9998-40af-91d0-799036d4ad97",
   "metadata": {},
   "outputs": [
    {
     "name": "stdout",
     "output_type": "stream",
     "text": [
      "86\n",
      "38382578\n"
     ]
    }
   ],
   "source": [
    "total_months = 0\n",
    "total_pnl = 0\n",
    "\n",
    "for month,pnl in budget_data.items():\n",
    "    total_months = total_months + 1\n",
    "    total_pnl = total_pnl + pnl\n",
    "    \n",
    "    \n",
    "print(total_months)\n",
    "print(total_pnl)"
   ]
  },
  {
   "cell_type": "code",
   "execution_count": null,
   "id": "4d009e52-9299-4ad4-a670-5d7dc0a1550d",
   "metadata": {},
   "outputs": [],
   "source": []
  }
 ],
 "metadata": {
  "kernelspec": {
   "display_name": "Python 3 (ipykernel)",
   "language": "python",
   "name": "python3"
  },
  "language_info": {
   "codemirror_mode": {
    "name": "ipython",
    "version": 3
   },
   "file_extension": ".py",
   "mimetype": "text/x-python",
   "name": "python",
   "nbconvert_exporter": "python",
   "pygments_lexer": "ipython3",
   "version": "3.7.11"
  }
 },
 "nbformat": 4,
 "nbformat_minor": 5
}
