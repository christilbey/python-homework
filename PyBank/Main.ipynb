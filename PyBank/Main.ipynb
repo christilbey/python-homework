{
 "cells": [
  {
   "cell_type": "code",
   "execution_count": 1,
   "id": "e31d4537-3123-42da-b69a-9d5b9a9a77af",
   "metadata": {},
   "outputs": [
    {
     "name": "stdout",
     "output_type": "stream",
     "text": [
      "['Date', 'Profit/Losses']\n"
     ]
    }
   ],
   "source": [
    "# important pathlib to get csv into python\n",
    "\n",
    "from pathlib import Path\n",
    "import csv\n",
    "\n",
    "csvpath = Path('../PyBank/budget_data.csv')\n",
    "\n",
    "# Initialize  varibles \n",
    "\n",
    "budget_data = {}\n",
    "\n",
    "# pass the csvfile to the budget_data function\n",
    "\n",
    "with open(csvpath, 'r') as csvfile:\n",
    "    csvreader = csv.reader(csvfile, delimiter=',')\n",
    "    header = next(csvreader)\n",
    "    \n",
    "    print(header)\n",
    "\n",
    "    for row in csvreader:\n",
    "        # read in one row at a time\n",
    "        month = row[0]\n",
    "        pnl = row[1]\n",
    "        budget_data[month] = int(pnl)"
   ]
  },
  {
   "cell_type": "code",
   "execution_count": 22,
   "id": "5e6dfb33-13f8-43b7-81d1-722f90e2c73c",
   "metadata": {},
   "outputs": [
    {
     "name": "stdout",
     "output_type": "stream",
     "text": [
      "86\n",
      "38382578\n",
      "-2315.1176470588234\n",
      "1926159\n",
      "-2196167\n"
     ]
    },
    {
     "ename": "TypeError",
     "evalue": "'int' object is not subscriptable",
     "output_type": "error",
     "traceback": [
      "\u001b[0;31m---------------------------------------------------------------------------\u001b[0m",
      "\u001b[0;31mTypeError\u001b[0m                                 Traceback (most recent call last)",
      "\u001b[0;32m/var/folders/6k/3yzgjkrn42b82w9ydc1y__xm0000gn/T/ipykernel_2661/3726448951.py\u001b[0m in \u001b[0;36m<module>\u001b[0;34m\u001b[0m\n\u001b[1;32m     27\u001b[0m \u001b[0;34m\u001b[0m\u001b[0m\n\u001b[1;32m     28\u001b[0m \u001b[0mmax_change_index\u001b[0m \u001b[0;34m=\u001b[0m \u001b[0mmonthly_changes\u001b[0m\u001b[0;34m.\u001b[0m\u001b[0mindex\u001b[0m\u001b[0;34m(\u001b[0m\u001b[0mmax_change\u001b[0m\u001b[0;34m)\u001b[0m\u001b[0;34m\u001b[0m\u001b[0;34m\u001b[0m\u001b[0m\n\u001b[0;32m---> 29\u001b[0;31m \u001b[0mmax_change_date\u001b[0m \u001b[0;34m=\u001b[0m \u001b[0mtotal_months\u001b[0m\u001b[0;34m[\u001b[0m\u001b[0mmax_change_index\u001b[0m \u001b[0;34m+\u001b[0m \u001b[0;36m1\u001b[0m\u001b[0;34m]\u001b[0m\u001b[0;34m\u001b[0m\u001b[0;34m\u001b[0m\u001b[0m\n\u001b[0m\u001b[1;32m     30\u001b[0m \u001b[0;34m\u001b[0m\u001b[0m\n\u001b[1;32m     31\u001b[0m \u001b[0mprint\u001b[0m\u001b[0;34m(\u001b[0m\u001b[0mstr\u001b[0m\u001b[0;34m(\u001b[0m\u001b[0mmax_change_date\u001b[0m\u001b[0;34m)\u001b[0m\u001b[0;34m)\u001b[0m\u001b[0;34m\u001b[0m\u001b[0;34m\u001b[0m\u001b[0m\n",
      "\u001b[0;31mTypeError\u001b[0m: 'int' object is not subscriptable"
     ]
    }
   ],
   "source": [
    "total_months = 0\n",
    "total_pnl = 0\n",
    "previous_pnl = 0\n",
    "monthly_changes = []\n",
    "#iterate over key-value pairs of the dictionary\n",
    "for month, pnl in budget_data.items():\n",
    "    #calculate sum of market caps and number of banks in the dictionary\n",
    "    total_months = total_months +1\n",
    "    total_pnl = total_pnl + pnl\n",
    "    pnl_change = pnl - previous_pnl\n",
    "    if total_months>1:\n",
    "        monthly_changes.append(pnl_change)\n",
    "    previous_pnl=pnl\n",
    "print(total_months)\n",
    "print(total_pnl)\n",
    "print(sum(monthly_changes)/len(monthly_changes))\n",
    "\n",
    "\n",
    "max_change = 0\n",
    "max_change = (max(monthly_changes))\n",
    "\n",
    "min_change = 0\n",
    "min_change = (min(monthly_changes))\n",
    "\n",
    "print(max_change)\n",
    "print(min_change)\n",
    "\n",
    "max_change_index = monthly_changes.index(max_change)\n",
    "max_change_date = total_months[max_change_index + 1]\n",
    "\n",
    "print(str(max_change_date))"
   ]
  },
  {
   "cell_type": "code",
   "execution_count": null,
   "id": "4d009e52-9299-4ad4-a670-5d7dc0a1550d",
   "metadata": {},
   "outputs": [],
   "source": []
  }
 ],
 "metadata": {
  "kernelspec": {
   "display_name": "Python 3 (ipykernel)",
   "language": "python",
   "name": "python3"
  },
  "language_info": {
   "codemirror_mode": {
    "name": "ipython",
    "version": 3
   },
   "file_extension": ".py",
   "mimetype": "text/x-python",
   "name": "python",
   "nbconvert_exporter": "python",
   "pygments_lexer": "ipython3",
   "version": "3.7.11"
  }
 },
 "nbformat": 4,
 "nbformat_minor": 5
}
