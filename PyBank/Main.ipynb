{
 "cells": [
  {
   "cell_type": "code",
   "execution_count": null,
   "id": "e31d4537-3123-42da-b69a-9d5b9a9a77af",
   "metadata": {},
   "outputs": [],
   "source": [
    "# important pathlib to get csv into python\n",
    "\n",
    "from pathlib import Path\n",
    "import csv\n",
    "\n",
    "csvpath = Path('../PyBank/budget_data.csv')\n",
    "\n",
    "# Initialize  varibles \n",
    "\n",
    "budget_data = {}\n",
    "\n",
    "# pass the csvfile to the budget_data function\n",
    "\n",
    "with open(csvpath, 'r') as csvfile:\n",
    "    csvreader = csv.reader(csvfile, delimiter=',')\n",
    "    header = next(csvreader)\n",
    "    \n",
    "    print(header)\n",
    "\n",
    "    # read each row of data\n",
    "\n",
    "    for row in csvreader:\n",
    "        month = row[0]\n",
    "        pnl = row[1]\n",
    "        budget_data[month] = int(pnl)\n",
    "\n",
    "print(budget_data)"
   ]
  },
  {
   "cell_type": "code",
   "execution_count": 11,
   "id": "668e6cb6-9998-40af-91d0-799036d4ad97",
   "metadata": {},
   "outputs": [
    {
     "name": "stdout",
     "output_type": "stream",
     "text": [
      "86\n",
      "38382578\n"
     ]
    }
   ],
   "source": [
    "total_months = 0\n",
    "total_pnl = 0\n",
    "\n",
    "for month,pnl in budget_data.items():\n",
    "    total_months = total_months + 1\n",
    "    total_pnl = total_pnl + pnl\n",
    "    \n",
    "print(total_months)\n",
    "print(total_pnl)"
   ]
  },
  {
   "cell_type": "code",
   "execution_count": null,
   "id": "8abc5a04-e66f-4a80-bd8a-ef359290b15b",
   "metadata": {},
   "outputs": [],
   "source": []
  }
 ],
 "metadata": {
  "kernelspec": {
   "display_name": "Python 3 (ipykernel)",
   "language": "python",
   "name": "python3"
  },
  "language_info": {
   "codemirror_mode": {
    "name": "ipython",
    "version": 3
   },
   "file_extension": ".py",
   "mimetype": "text/x-python",
   "name": "python",
   "nbconvert_exporter": "python",
   "pygments_lexer": "ipython3",
   "version": "3.7.11"
  }
 },
 "nbformat": 4,
 "nbformat_minor": 5
}
